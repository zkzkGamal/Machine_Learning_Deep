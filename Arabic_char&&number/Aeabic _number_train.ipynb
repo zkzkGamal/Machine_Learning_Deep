{
 "cells": [
  {
   "cell_type": "code",
   "execution_count": 1,
   "id": "c6204082",
   "metadata": {},
   "outputs": [],
   "source": [
    "import pandas as pd\n",
    "import numpy as np\n",
    "import matplotlib.pyplot as plt\n",
    "from PIL import Image\n",
    "import keras\n",
    "from keras.models import Sequential\n",
    "from keras.layers import Dense , Flatten , Conv2D , MaxPooling2D ,BatchNormalization , Dropout\n",
    "from keras.utils import to_categorical"
   ]
  },
  {
   "cell_type": "code",
   "execution_count": 2,
   "id": "085ef5a2",
   "metadata": {},
   "outputs": [],
   "source": [
    "train_img = pd.read_csv('./train_img.csv')\n",
    "train_label = pd.read_csv('./train_label.csv')\n",
    "test_img = pd.read_csv('./test_img.csv')\n",
    "test_label = pd.read_csv('./test_label.csv')"
   ]
  },
  {
   "cell_type": "code",
   "execution_count": 3,
   "id": "5fd3eb5f",
   "metadata": {},
   "outputs": [
    {
     "data": {
      "text/html": [
       "<div>\n",
       "<style scoped>\n",
       "    .dataframe tbody tr th:only-of-type {\n",
       "        vertical-align: middle;\n",
       "    }\n",
       "\n",
       "    .dataframe tbody tr th {\n",
       "        vertical-align: top;\n",
       "    }\n",
       "\n",
       "    .dataframe thead th {\n",
       "        text-align: right;\n",
       "    }\n",
       "</style>\n",
       "<table border=\"1\" class=\"dataframe\">\n",
       "  <thead>\n",
       "    <tr style=\"text-align: right;\">\n",
       "      <th></th>\n",
       "      <th>0</th>\n",
       "    </tr>\n",
       "  </thead>\n",
       "  <tbody>\n",
       "    <tr>\n",
       "      <th>0</th>\n",
       "      <td>1</td>\n",
       "    </tr>\n",
       "    <tr>\n",
       "      <th>1</th>\n",
       "      <td>2</td>\n",
       "    </tr>\n",
       "    <tr>\n",
       "      <th>2</th>\n",
       "      <td>3</td>\n",
       "    </tr>\n",
       "    <tr>\n",
       "      <th>3</th>\n",
       "      <td>4</td>\n",
       "    </tr>\n",
       "    <tr>\n",
       "      <th>4</th>\n",
       "      <td>5</td>\n",
       "    </tr>\n",
       "  </tbody>\n",
       "</table>\n",
       "</div>"
      ],
      "text/plain": [
       "   0\n",
       "0  1\n",
       "1  2\n",
       "2  3\n",
       "3  4\n",
       "4  5"
      ]
     },
     "execution_count": 3,
     "metadata": {},
     "output_type": "execute_result"
    }
   ],
   "source": [
    "test_label.head()"
   ]
  },
  {
   "cell_type": "markdown",
   "id": "cf67a9cd",
   "metadata": {},
   "source": [
    "# to get the values from dataFrame \n"
   ]
  },
  {
   "cell_type": "code",
   "execution_count": 4,
   "id": "4b18abf2",
   "metadata": {},
   "outputs": [],
   "source": [
    "x_train = train_img.values\n",
    "x_test = test_img.values"
   ]
  },
  {
   "cell_type": "code",
   "execution_count": 5,
   "id": "b0ac5ba5",
   "metadata": {},
   "outputs": [
    {
     "name": "stdout",
     "output_type": "stream",
     "text": [
      "(59999, 784)\n",
      "(9999, 784)\n"
     ]
    }
   ],
   "source": [
    "print(x_train.shape)\n",
    "print(x_test.shape)"
   ]
  },
  {
   "cell_type": "markdown",
   "id": "447a9585",
   "metadata": {},
   "source": [
    "# Normalize the data to make CNN faster"
   ]
  },
  {
   "cell_type": "code",
   "execution_count": 6,
   "id": "b33d7de0",
   "metadata": {},
   "outputs": [],
   "source": [
    "x_train , x_test = (x_train / 255.0) ,(x_test / 255.0)"
   ]
  },
  {
   "cell_type": "markdown",
   "id": "92ee0afd",
   "metadata": {},
   "source": [
    "# then reshape the img to size number , 32w ,32h ,1d \n"
   ]
  },
  {
   "cell_type": "code",
   "execution_count": 7,
   "id": "c72f0a63",
   "metadata": {},
   "outputs": [
    {
     "data": {
      "text/plain": [
       "array([[[[0.],\n",
       "         [0.],\n",
       "         [0.],\n",
       "         ...,\n",
       "         [0.],\n",
       "         [0.],\n",
       "         [0.]],\n",
       "\n",
       "        [[0.],\n",
       "         [0.],\n",
       "         [0.],\n",
       "         ...,\n",
       "         [0.],\n",
       "         [0.],\n",
       "         [0.]],\n",
       "\n",
       "        [[0.],\n",
       "         [0.],\n",
       "         [0.],\n",
       "         ...,\n",
       "         [0.],\n",
       "         [0.],\n",
       "         [0.]],\n",
       "\n",
       "        ...,\n",
       "\n",
       "        [[0.],\n",
       "         [0.],\n",
       "         [0.],\n",
       "         ...,\n",
       "         [0.],\n",
       "         [0.],\n",
       "         [0.]],\n",
       "\n",
       "        [[0.],\n",
       "         [0.],\n",
       "         [0.],\n",
       "         ...,\n",
       "         [0.],\n",
       "         [0.],\n",
       "         [0.]],\n",
       "\n",
       "        [[0.],\n",
       "         [0.],\n",
       "         [0.],\n",
       "         ...,\n",
       "         [0.],\n",
       "         [0.],\n",
       "         [0.]]],\n",
       "\n",
       "\n",
       "       [[[0.],\n",
       "         [0.],\n",
       "         [0.],\n",
       "         ...,\n",
       "         [0.],\n",
       "         [0.],\n",
       "         [0.]],\n",
       "\n",
       "        [[0.],\n",
       "         [0.],\n",
       "         [0.],\n",
       "         ...,\n",
       "         [0.],\n",
       "         [0.],\n",
       "         [0.]],\n",
       "\n",
       "        [[0.],\n",
       "         [0.],\n",
       "         [0.],\n",
       "         ...,\n",
       "         [0.],\n",
       "         [0.],\n",
       "         [0.]],\n",
       "\n",
       "        ...,\n",
       "\n",
       "        [[0.],\n",
       "         [0.],\n",
       "         [0.],\n",
       "         ...,\n",
       "         [0.],\n",
       "         [0.],\n",
       "         [0.]],\n",
       "\n",
       "        [[0.],\n",
       "         [0.],\n",
       "         [0.],\n",
       "         ...,\n",
       "         [0.],\n",
       "         [0.],\n",
       "         [0.]],\n",
       "\n",
       "        [[0.],\n",
       "         [0.],\n",
       "         [0.],\n",
       "         ...,\n",
       "         [0.],\n",
       "         [0.],\n",
       "         [0.]]],\n",
       "\n",
       "\n",
       "       [[[0.],\n",
       "         [0.],\n",
       "         [0.],\n",
       "         ...,\n",
       "         [0.],\n",
       "         [0.],\n",
       "         [0.]],\n",
       "\n",
       "        [[0.],\n",
       "         [0.],\n",
       "         [0.],\n",
       "         ...,\n",
       "         [0.],\n",
       "         [0.],\n",
       "         [0.]],\n",
       "\n",
       "        [[0.],\n",
       "         [0.],\n",
       "         [0.],\n",
       "         ...,\n",
       "         [0.],\n",
       "         [0.],\n",
       "         [0.]],\n",
       "\n",
       "        ...,\n",
       "\n",
       "        [[0.],\n",
       "         [0.],\n",
       "         [0.],\n",
       "         ...,\n",
       "         [0.],\n",
       "         [0.],\n",
       "         [0.]],\n",
       "\n",
       "        [[0.],\n",
       "         [0.],\n",
       "         [0.],\n",
       "         ...,\n",
       "         [0.],\n",
       "         [0.],\n",
       "         [0.]],\n",
       "\n",
       "        [[0.],\n",
       "         [0.],\n",
       "         [0.],\n",
       "         ...,\n",
       "         [0.],\n",
       "         [0.],\n",
       "         [0.]]],\n",
       "\n",
       "\n",
       "       ...,\n",
       "\n",
       "\n",
       "       [[[0.],\n",
       "         [0.],\n",
       "         [0.],\n",
       "         ...,\n",
       "         [0.],\n",
       "         [0.],\n",
       "         [0.]],\n",
       "\n",
       "        [[0.],\n",
       "         [0.],\n",
       "         [0.],\n",
       "         ...,\n",
       "         [0.],\n",
       "         [0.],\n",
       "         [0.]],\n",
       "\n",
       "        [[0.],\n",
       "         [0.],\n",
       "         [0.],\n",
       "         ...,\n",
       "         [0.],\n",
       "         [0.],\n",
       "         [0.]],\n",
       "\n",
       "        ...,\n",
       "\n",
       "        [[0.],\n",
       "         [0.],\n",
       "         [0.],\n",
       "         ...,\n",
       "         [0.],\n",
       "         [0.],\n",
       "         [0.]],\n",
       "\n",
       "        [[0.],\n",
       "         [0.],\n",
       "         [0.],\n",
       "         ...,\n",
       "         [0.],\n",
       "         [0.],\n",
       "         [0.]],\n",
       "\n",
       "        [[0.],\n",
       "         [0.],\n",
       "         [0.],\n",
       "         ...,\n",
       "         [0.],\n",
       "         [0.],\n",
       "         [0.]]],\n",
       "\n",
       "\n",
       "       [[[0.],\n",
       "         [0.],\n",
       "         [0.],\n",
       "         ...,\n",
       "         [0.],\n",
       "         [0.],\n",
       "         [0.]],\n",
       "\n",
       "        [[0.],\n",
       "         [0.],\n",
       "         [0.],\n",
       "         ...,\n",
       "         [0.],\n",
       "         [0.],\n",
       "         [0.]],\n",
       "\n",
       "        [[0.],\n",
       "         [0.],\n",
       "         [0.],\n",
       "         ...,\n",
       "         [0.],\n",
       "         [0.],\n",
       "         [0.]],\n",
       "\n",
       "        ...,\n",
       "\n",
       "        [[0.],\n",
       "         [0.],\n",
       "         [0.],\n",
       "         ...,\n",
       "         [0.],\n",
       "         [0.],\n",
       "         [0.]],\n",
       "\n",
       "        [[0.],\n",
       "         [0.],\n",
       "         [0.],\n",
       "         ...,\n",
       "         [0.],\n",
       "         [0.],\n",
       "         [0.]],\n",
       "\n",
       "        [[0.],\n",
       "         [0.],\n",
       "         [0.],\n",
       "         ...,\n",
       "         [0.],\n",
       "         [0.],\n",
       "         [0.]]],\n",
       "\n",
       "\n",
       "       [[[0.],\n",
       "         [0.],\n",
       "         [0.],\n",
       "         ...,\n",
       "         [0.],\n",
       "         [0.],\n",
       "         [0.]],\n",
       "\n",
       "        [[0.],\n",
       "         [0.],\n",
       "         [0.],\n",
       "         ...,\n",
       "         [0.],\n",
       "         [0.],\n",
       "         [0.]],\n",
       "\n",
       "        [[0.],\n",
       "         [0.],\n",
       "         [0.],\n",
       "         ...,\n",
       "         [0.],\n",
       "         [0.],\n",
       "         [0.]],\n",
       "\n",
       "        ...,\n",
       "\n",
       "        [[0.],\n",
       "         [0.],\n",
       "         [0.],\n",
       "         ...,\n",
       "         [0.],\n",
       "         [0.],\n",
       "         [0.]],\n",
       "\n",
       "        [[0.],\n",
       "         [0.],\n",
       "         [0.],\n",
       "         ...,\n",
       "         [0.],\n",
       "         [0.],\n",
       "         [0.]],\n",
       "\n",
       "        [[0.],\n",
       "         [0.],\n",
       "         [0.],\n",
       "         ...,\n",
       "         [0.],\n",
       "         [0.],\n",
       "         [0.]]]])"
      ]
     },
     "execution_count": 7,
     "metadata": {},
     "output_type": "execute_result"
    }
   ],
   "source": [
    "x_train  = x_train.reshape(x_train.shape[0] , 28 , 28 , 1 )\n",
    "x_test  = x_test.reshape(x_test.shape[0] , 28 , 28 ,1)\n",
    "x_test.shape\n",
    "x_train"
   ]
  },
  {
   "cell_type": "markdown",
   "id": "37f698df",
   "metadata": {},
   "source": [
    "# split data train into train and valid "
   ]
  },
  {
   "cell_type": "code",
   "execution_count": 8,
   "id": "a44fa304",
   "metadata": {},
   "outputs": [],
   "source": [
    "from sklearn.model_selection import train_test_split\n",
    "x_train1 , x_valid , y_train1 , y_valid = train_test_split(x_train , train_label , test_size=.2 , random_state=8)"
   ]
  },
  {
   "cell_type": "code",
   "execution_count": 9,
   "id": "dcf24ccf",
   "metadata": {},
   "outputs": [
    {
     "data": {
      "text/plain": [
       "(47999, 28, 28, 1)"
      ]
     },
     "execution_count": 9,
     "metadata": {},
     "output_type": "execute_result"
    }
   ],
   "source": [
    "x_train1.shape"
   ]
  },
  {
   "cell_type": "markdown",
   "id": "0e4064b1",
   "metadata": {},
   "source": [
    "# encoding labels"
   ]
  },
  {
   "cell_type": "code",
   "execution_count": 10,
   "id": "f39b5892",
   "metadata": {},
   "outputs": [
    {
     "name": "stdout",
     "output_type": "stream",
     "text": [
      "(9999, 10)\n",
      "(47999, 10)\n"
     ]
    }
   ],
   "source": [
    "y_train1 = to_categorical(y_train1, num_classes = 10)\n",
    "y_valid  = to_categorical(y_valid , num_classes = 10)\n",
    "y_test = to_categorical(test_label , num_classes=10)\n",
    "print(y_test.shape)\n",
    "print(y_train1.shape)"
   ]
  },
  {
   "cell_type": "markdown",
   "id": "638ed74f",
   "metadata": {},
   "source": [
    "# image fixing and visualizing"
   ]
  },
  {
   "cell_type": "code",
   "execution_count": 11,
   "id": "a8e5d696",
   "metadata": {},
   "outputs": [
    {
     "data": {
      "text/plain": [
       "<matplotlib.image.AxesImage at 0x2190c11edd0>"
      ]
     },
     "execution_count": 11,
     "metadata": {},
     "output_type": "execute_result"
    },
    {
     "data": {
      "image/png": "[encoded data removed]",
      "text/plain": [
       "<Figure size 640x480 with 1 Axes>"
      ]
     },
     "metadata": {},
     "output_type": "display_data"
    }
   ],
   "source": [
    "image = (x_test[35][:,:,0])\n",
    "image = image.reshape([28, 28])\n",
    "image = np.fliplr(image)\n",
    "image = np.rot90(image)\n",
    "plt.imshow(image)"
   ]
  },
  {
   "cell_type": "markdown",
   "id": "b0b4b900",
   "metadata": {},
   "source": [
    "# finally the step of building CNN model to predict numbers"
   ]
  },
  {
   "cell_type": "code",
   "execution_count": 12,
   "id": "15155de6",
   "metadata": {},
   "outputs": [
    {
     "name": "stderr",
     "output_type": "stream",
     "text": [
      "WARNING:absl:`lr` is deprecated in Keras optimizer, please use `learning_rate` or use the legacy optimizer, e.g.,tf.keras.optimizers.legacy.SGD.\n"
     ]
    },
    {
     "name": "stdout",
     "output_type": "stream",
     "text": [
      "Model: \"sequential\"\n",
      "_________________________________________________________________\n",
      " Layer (type)                Output Shape              Param #   \n",
      "=================================================================\n",
      " conv2d (Conv2D)             (None, 26, 26, 32)        320       \n",
      "                                                                 \n",
      " batch_normalization (BatchN  (None, 26, 26, 32)       128       \n",
      " ormalization)                                                   \n",
      "                                                                 \n",
      " max_pooling2d (MaxPooling2D  (None, 13, 13, 32)       0         \n",
      " )                                                               \n",
      "                                                                 \n",
      " dropout (Dropout)           (None, 13, 13, 32)        0         \n",
      "                                                                 \n",
      " conv2d_1 (Conv2D)           (None, 11, 11, 64)        18496     \n",
      "                                                                 \n",
      " batch_normalization_1 (Batc  (None, 11, 11, 64)       256       \n",
      " hNormalization)                                                 \n",
      "                                                                 \n",
      " max_pooling2d_1 (MaxPooling  (None, 5, 5, 64)         0         \n",
      " 2D)                                                             \n",
      "                                                                 \n",
      " dropout_1 (Dropout)         (None, 5, 5, 64)          0         \n",
      "                                                                 \n",
      " conv2d_2 (Conv2D)           (None, 3, 3, 32)          18464     \n",
      "                                                                 \n",
      " batch_normalization_2 (Batc  (None, 3, 3, 32)         128       \n",
      " hNormalization)                                                 \n",
      "                                                                 \n",
      " max_pooling2d_2 (MaxPooling  (None, 1, 1, 32)         0         \n",
      " 2D)                                                             \n",
      "                                                                 \n",
      " dropout_2 (Dropout)         (None, 1, 1, 32)          0         \n",
      "                                                                 \n",
      " flatten (Flatten)           (None, 32)                0         \n",
      "                                                                 \n",
      " dense (Dense)               (None, 256)               8448      \n",
      "                                                                 \n",
      " batch_normalization_3 (Batc  (None, 256)              1024      \n",
      " hNormalization)                                                 \n",
      "                                                                 \n",
      " dense_1 (Dense)             (None, 64)                16448     \n",
      "                                                                 \n",
      " batch_normalization_4 (Batc  (None, 64)               256       \n",
      " hNormalization)                                                 \n",
      "                                                                 \n",
      " dropout_3 (Dropout)         (None, 64)                0         \n",
      "                                                                 \n",
      " dense_2 (Dense)             (None, 10)                650       \n",
      "                                                                 \n",
      "=================================================================\n",
      "Total params: 64,618\n",
      "Trainable params: 63,722\n",
      "Non-trainable params: 896\n",
      "_________________________________________________________________\n"
     ]
    }
   ],
   "source": [
    "# install model\n",
    "classifier = Sequential()\n",
    "\n",
    "# 1- convolution\n",
    "classifier.add(Conv2D(32,(3,3),input_shape = (28, 28, 1), activation = 'relu'))\n",
    "classifier.add(BatchNormalization())\n",
    "# 2- pooling image\n",
    "classifier.add(MaxPooling2D(pool_size = (2, 2)))\n",
    "classifier.add(Dropout(0.1))\n",
    "\n",
    "#3-  Adding a second convolutional layer\n",
    "classifier.add(Conv2D(64,(3,3), activation = 'relu'))\n",
    "classifier.add(BatchNormalization())\n",
    "classifier.add(MaxPooling2D(pool_size = (2, 2)))\n",
    "classifier.add(Dropout(0.1)) #used for prevent overfitting model\n",
    "\n",
    "#3-  Adding a third convolutional layer\n",
    "classifier.add(Conv2D(32,(3,3),input_shape = (28, 28, 1) ,  activation = 'relu'))\n",
    "classifier.add(BatchNormalization())\n",
    "classifier.add(MaxPooling2D(pool_size = (2, 2)))\n",
    "classifier.add(Dropout(0.2))\n",
    "# Step 3 - Flattening\n",
    "classifier.add(Flatten())\n",
    "\n",
    "# Step 4 - Full connection and hidden layers\n",
    "classifier.add(Dense(units = 256, activation = 'relu'))\n",
    "classifier.add(BatchNormalization())\n",
    "classifier.add(Dense(units = 64, activation = 'relu'))\n",
    "classifier.add(BatchNormalization())\n",
    "classifier.add(Dropout(0.25))\n",
    "classifier.add(Dense(units = 10, activation = 'softmax'))\n",
    "\n",
    "# Compiling the CNN\n",
    "from tensorflow.keras.optimizers import SGD,RMSprop\n",
    "optimizer = SGD(lr = 0.001 , momentum=0.30)\n",
    "classifier.compile(optimizer = optimizer , loss = 'categorical_crossentropy'\n",
    "                   , metrics = ['accuracy'])\n",
    "classifier.summary()"
   ]
  },
  {
   "cell_type": "code",
   "execution_count": 13,
   "id": "fba7def2",
   "metadata": {},
   "outputs": [
    {
     "name": "stdout",
     "output_type": "stream",
     "text": [
      "Requirement already satisfied: graphviz in c:\\users\\zkzk\\anaconda3\\lib\\site-packages (0.20.1)\n",
      "Requirement already satisfied: pydot in c:\\users\\zkzk\\anaconda3\\lib\\site-packages (1.4.2)\n",
      "Requirement already satisfied: pyparsing>=2.1.4 in c:\\users\\zkzk\\anaconda3\\lib\\site-packages (from pydot) (3.0.9)\n"
     ]
    }
   ],
   "source": [
    "!pip install graphviz\n",
    "!pip install pydot"
   ]
  },
  {
   "cell_type": "code",
   "execution_count": 14,
   "id": "84123c5d",
   "metadata": {},
   "outputs": [
    {
     "name": "stdout",
     "output_type": "stream",
     "text": [
      "You must install pydot (`pip install pydot`) and install graphviz (see instructions at https://graphviz.gitlab.io/download/) for plot_model to work.\n"
     ]
    }
   ],
   "source": [
    "from keras.utils.vis_utils import plot_model\n",
    "plot_model(classifier, to_file='model.png', show_shapes=True, show_layer_names=True)\n",
    "# from IPython.display import Image\n",
    "# Image(\"model.png\")"
   ]
  },
  {
   "cell_type": "code",
   "execution_count": 15,
   "id": "b7e3ce29",
   "metadata": {},
   "outputs": [],
   "source": [
    "from keras.callbacks import EarlyStopping, ReduceLROnPlateau\n",
    "earlystop = EarlyStopping(patience=10)\n",
    "callbacks = [earlystop]\n"
   ]
  },
  {
   "cell_type": "code",
   "execution_count": 16,
   "id": "c3fbeda7",
   "metadata": {},
   "outputs": [
    {
     "name": "stdout",
     "output_type": "stream",
     "text": [
      "187\n",
      "46\n"
     ]
    }
   ],
   "source": [
    "st_pr_ep = int(len(x_train1) / 256)\n",
    "vl_step = int(len(x_valid) / 256)\n",
    "print(st_pr_ep)\n",
    "print(vl_step)"
   ]
  },
  {
   "cell_type": "code",
   "execution_count": 17,
   "id": "3b251be5",
   "metadata": {},
   "outputs": [
    {
     "name": "stdout",
     "output_type": "stream",
     "text": [
      "Epoch 1/30\n",
      "187/187 [==============================] - 54s 282ms/step - loss: 0.6053 - accuracy: 0.8229 - val_loss: 2.7999 - val_accuracy: 0.2615\n",
      "Epoch 2/30\n",
      "187/187 [==============================] - 52s 279ms/step - loss: 0.2152 - accuracy: 0.9446 - val_loss: 1.7456 - val_accuracy: 0.4503\n",
      "Epoch 3/30\n",
      "187/187 [==============================] - 52s 281ms/step - loss: 0.1572 - accuracy: 0.9579 - val_loss: 0.1920 - val_accuracy: 0.9497\n",
      "Epoch 4/30\n",
      "187/187 [==============================] - 55s 296ms/step - loss: 0.1283 - accuracy: 0.9664 - val_loss: 0.0719 - val_accuracy: 0.9791\n",
      "Epoch 5/30\n",
      "187/187 [==============================] - 60s 322ms/step - loss: 0.1119 - accuracy: 0.9698 - val_loss: 0.0576 - val_accuracy: 0.9828\n",
      "Epoch 6/30\n",
      "187/187 [==============================] - 53s 283ms/step - loss: 0.1016 - accuracy: 0.9732 - val_loss: 0.0555 - val_accuracy: 0.9829\n",
      "Epoch 7/30\n",
      "187/187 [==============================] - 56s 299ms/step - loss: 0.0928 - accuracy: 0.9753 - val_loss: 0.0492 - val_accuracy: 0.9852\n",
      "Epoch 8/30\n",
      "187/187 [==============================] - 55s 294ms/step - loss: 0.0858 - accuracy: 0.9772 - val_loss: 0.0481 - val_accuracy: 0.9860\n",
      "Epoch 9/30\n",
      "187/187 [==============================] - 57s 307ms/step - loss: 0.0783 - accuracy: 0.9785 - val_loss: 0.0431 - val_accuracy: 0.9877\n",
      "Epoch 10/30\n",
      "187/187 [==============================] - 94s 504ms/step - loss: 0.0760 - accuracy: 0.9795 - val_loss: 0.0420 - val_accuracy: 0.9874\n",
      "Epoch 11/30\n",
      "187/187 [==============================] - 77s 410ms/step - loss: 0.0698 - accuracy: 0.9810 - val_loss: 0.0408 - val_accuracy: 0.9880\n",
      "Epoch 12/30\n",
      "187/187 [==============================] - 64s 345ms/step - loss: 0.0688 - accuracy: 0.9806 - val_loss: 0.0386 - val_accuracy: 0.9887\n",
      "Epoch 13/30\n",
      "187/187 [==============================] - 56s 301ms/step - loss: 0.0671 - accuracy: 0.9815 - val_loss: 0.0374 - val_accuracy: 0.9885\n",
      "Epoch 14/30\n",
      "187/187 [==============================] - 54s 290ms/step - loss: 0.0610 - accuracy: 0.9827 - val_loss: 0.0362 - val_accuracy: 0.9895\n",
      "Epoch 15/30\n",
      "187/187 [==============================] - 60s 324ms/step - loss: 0.0573 - accuracy: 0.9843 - val_loss: 0.0350 - val_accuracy: 0.9897\n",
      "Epoch 16/30\n",
      "187/187 [==============================] - 56s 298ms/step - loss: 0.0560 - accuracy: 0.9850 - val_loss: 0.0341 - val_accuracy: 0.9908\n",
      "Epoch 17/30\n",
      "187/187 [==============================] - 53s 283ms/step - loss: 0.0564 - accuracy: 0.9845 - val_loss: 0.0334 - val_accuracy: 0.9906\n",
      "Epoch 18/30\n",
      "187/187 [==============================] - 57s 303ms/step - loss: 0.0538 - accuracy: 0.9847 - val_loss: 0.0325 - val_accuracy: 0.9906\n",
      "Epoch 19/30\n",
      "187/187 [==============================] - 68s 362ms/step - loss: 0.0522 - accuracy: 0.9858 - val_loss: 0.0329 - val_accuracy: 0.9905\n",
      "Epoch 20/30\n",
      "187/187 [==============================] - 57s 303ms/step - loss: 0.0496 - accuracy: 0.9861 - val_loss: 0.0313 - val_accuracy: 0.9912\n",
      "Epoch 21/30\n",
      "187/187 [==============================] - 59s 313ms/step - loss: 0.0489 - accuracy: 0.9863 - val_loss: 0.0310 - val_accuracy: 0.9914\n",
      "Epoch 22/30\n",
      "187/187 [==============================] - 58s 313ms/step - loss: 0.0477 - accuracy: 0.9874 - val_loss: 0.0313 - val_accuracy: 0.9913\n",
      "Epoch 23/30\n",
      "187/187 [==============================] - 53s 286ms/step - loss: 0.0452 - accuracy: 0.9876 - val_loss: 0.0307 - val_accuracy: 0.9918\n",
      "Epoch 24/30\n",
      "187/187 [==============================] - 61s 329ms/step - loss: 0.0457 - accuracy: 0.9869 - val_loss: 0.0298 - val_accuracy: 0.9919\n",
      "Epoch 25/30\n",
      "187/187 [==============================] - 64s 343ms/step - loss: 0.0435 - accuracy: 0.9883 - val_loss: 0.0296 - val_accuracy: 0.9921\n",
      "Epoch 26/30\n",
      "187/187 [==============================] - 64s 343ms/step - loss: 0.0438 - accuracy: 0.9875 - val_loss: 0.0290 - val_accuracy: 0.9922\n",
      "Epoch 27/30\n",
      "187/187 [==============================] - 57s 305ms/step - loss: 0.0434 - accuracy: 0.9881 - val_loss: 0.0295 - val_accuracy: 0.9921\n",
      "Epoch 28/30\n",
      "187/187 [==============================] - 58s 309ms/step - loss: 0.0412 - accuracy: 0.9886 - val_loss: 0.0284 - val_accuracy: 0.9925\n",
      "Epoch 29/30\n",
      "187/187 [==============================] - 53s 284ms/step - loss: 0.0397 - accuracy: 0.9888 - val_loss: 0.0276 - val_accuracy: 0.9925\n",
      "Epoch 30/30\n",
      "187/187 [==============================] - 56s 302ms/step - loss: 0.0399 - accuracy: 0.9885 - val_loss: 0.0278 - val_accuracy: 0.9927\n"
     ]
    },
    {
     "data": {
      "text/plain": [
       "<keras.callbacks.History at 0x2190ccb1d50>"
      ]
     },
     "execution_count": 17,
     "metadata": {},
     "output_type": "execute_result"
    }
   ],
   "source": [
    "history = classifier.fit( x_train1 , \n",
    "               y_train1 , \n",
    "               epochs = 30 , \n",
    "               steps_per_epoch= st_pr_ep , \n",
    "               callbacks= callbacks , \n",
    "               validation_data=(x_valid , y_valid),\n",
    "               validation_steps= vl_step )"
   ]
  },
  {
   "cell_type": "code",
   "execution_count": 18,
   "id": "d482bdd8",
   "metadata": {},
   "outputs": [
    {
     "name": "stdout",
     "output_type": "stream",
     "text": [
      "313/313 [==============================] - 4s 11ms/step\n"
     ]
    }
   ],
   "source": [
    "y_pred = classifier.predict(x_test)\n",
    "y_pred=np.argmax(y_pred,axis = 1)\n"
   ]
  },
  {
   "cell_type": "markdown",
   "id": "f895f83a",
   "metadata": {},
   "source": [
    "# Graph that describe the loss and accuracy of the training set and the validation set (Training and validation curves)\n"
   ]
  },
  {
   "cell_type": "code",
   "execution_count": 39,
   "id": "a8e3f5c9",
   "metadata": {},
   "outputs": [],
   "source": [
    "# #Draw the loss and accuracy curves of the training set and the validation set.\n",
    "# # Can judge whether it is under-fitting or over-fitting\n",
    "# fig, ax = plt.subplots(2,1)\n",
    "# ax[0].plot(history.history['loss'][0], color='b', label=\"Training loss\")\n",
    "# ax[0].plot(history.history['val_loss'][0], color='r', label=\"validation loss\",axes =ax[0])\n",
    "# legend = ax[0].legend(loc='best', shadow=True)\n",
    "\n",
    "# ax[1].plot(history.history['accuracy'], color='b', label=\"Training accuracy\")\n",
    "# ax[1].plot(history.history['val_accuracy'], color='r',label=\"Validation accuracy\")\n",
    "# legend = ax[1].legend(loc='best', shadow=True)\n"
   ]
  },
  {
   "cell_type": "code",
   "execution_count": 40,
   "id": "6b2efb05",
   "metadata": {},
   "outputs": [],
   "source": [
    "\n",
    "test_lab = pd.read_csv('./test_label.csv')\n",
    "\n",
    "test_la = test_lab.values"
   ]
  },
  {
   "cell_type": "code",
   "execution_count": 41,
   "id": "a543c7c8",
   "metadata": {},
   "outputs": [],
   "source": [
    "from sklearn.metrics import confusion_matrix , accuracy_score\n",
    "cm = confusion_matrix(test_la,y_pred)\n",
    "acc = accuracy_score(test_la , y_pred)"
   ]
  },
  {
   "cell_type": "code",
   "execution_count": 42,
   "id": "817ac832",
   "metadata": {},
   "outputs": [
    {
     "data": {
      "text/plain": [
       "array([[1],\n",
       "       [2],\n",
       "       [3],\n",
       "       [4],\n",
       "       [5],\n",
       "       [6],\n",
       "       [7],\n",
       "       [8],\n",
       "       [9],\n",
       "       [0],\n",
       "       [1],\n",
       "       [2],\n",
       "       [3]], dtype=int64)"
      ]
     },
     "execution_count": 42,
     "metadata": {},
     "output_type": "execute_result"
    }
   ],
   "source": [
    "test_la[0:13]"
   ]
  },
  {
   "cell_type": "code",
   "execution_count": 43,
   "id": "5e0a8745",
   "metadata": {},
   "outputs": [
    {
     "data": {
      "text/plain": [
       "array([1, 2, 3, 4, 5, 6, 7, 8, 9, 0, 1, 2, 3], dtype=int64)"
      ]
     },
     "execution_count": 43,
     "metadata": {},
     "output_type": "execute_result"
    }
   ],
   "source": [
    "y_pred[0:13]"
   ]
  },
  {
   "cell_type": "code",
   "execution_count": 44,
   "id": "33583beb",
   "metadata": {},
   "outputs": [
    {
     "name": "stdout",
     "output_type": "stream",
     "text": [
      "accuracy :   0.9881988198819882\n"
     ]
    }
   ],
   "source": [
    "print('accuracy :  ' , acc)"
   ]
  },
  {
   "cell_type": "code",
   "execution_count": 48,
   "id": "a2449639",
   "metadata": {},
   "outputs": [
    {
     "name": "stdout",
     "output_type": "stream",
     "text": [
      "313/313 [==============================] - 3s 11ms/step - loss: 0.0420 - accuracy: 0.9882\n",
      "\n",
      " test accourcy :  98.81988167762756\n",
      "\n",
      " test1 loss :  0.04201770946383476\n"
     ]
    }
   ],
   "source": [
    "score = classifier.evaluate(x_test , y_test )\n",
    "print('\\n' , 'test accourcy : ' , score[1]*100)\n",
    "print('\\n' , 'test1 loss : ' , score[0])"
   ]
  },
  {
   "cell_type": "code",
   "execution_count": 51,
   "id": "fd2fe7ab",
   "metadata": {},
   "outputs": [],
   "source": [
    "classifier.save('Arabic_number_model.h5')"
   ]
  },
  {
   "cell_type": "code",
   "execution_count": null,
   "id": "75adcbd6",
   "metadata": {},
   "outputs": [],
   "source": []
  }
 ],
 "metadata": {
  "kernelspec": {
   "display_name": "Python 3 (ipykernel)",
   "language": "python",
   "name": "python3"
  },
  "language_info": {
   "codemirror_mode": {
    "name": "ipython",
    "version": 3
   },
   "file_extension": ".py",
   "mimetype": "text/x-python",
   "name": "python",
   "nbconvert_exporter": "python",
   "pygments_lexer": "ipython3",
   "version": "3.10.9"
  }
 },
 "nbformat": 4,
 "nbformat_minor": 5
}
